{
 "cells": [
  {
   "cell_type": "markdown",
   "metadata": {},
   "source": [
    "# Arrays - DS"
   ]
  },
  {
   "cell_type": "markdown",
   "metadata": {},
   "source": [
    "Print all integers in reverse order as a single line of space-separated integers.\n",
    "\n",
    "Example input given is this (for testing):  \n",
    "`4`  \n",
    "`1 2 3 4`\n",
    "\n",
    "Example output:  \n",
    "`4 3 2 1`\n",
    "\n",
    "https://www.hackerrank.com/challenges/arrays-ds/problem"
   ]
  },
  {
   "cell_type": "code",
   "execution_count": 1,
   "metadata": {},
   "outputs": [],
   "source": [
    "import math\n",
    "import os\n",
    "import random\n",
    "import re\n",
    "import sys"
   ]
  },
  {
   "cell_type": "code",
   "execution_count": 2,
   "metadata": {},
   "outputs": [],
   "source": [
    "# Complete the reverseArray function below.\n",
    "def reverseArray(a):\n",
    "    rev =[]\n",
    "    for i in range(0, arr_count):\n",
    "        z = abs(i-(arr_count-1))\n",
    "        rev.append(a[z])\n",
    "    return rev\n",
    "# reverseArray function completed!\n"
   ]
  },
  {
   "cell_type": "code",
   "execution_count": 3,
   "metadata": {},
   "outputs": [
    {
     "name": "stdin",
     "output_type": "stream",
     "text": [
      " 4\n",
      " 1 2 3 4\n"
     ]
    },
    {
     "name": "stdout",
     "output_type": "stream",
     "text": [
      "Input Array\n",
      "[1, 2, 3, 4]\n",
      "Output Array\n",
      "[4, 3, 2, 1]\n"
     ]
    }
   ],
   "source": [
    "#All commented lines belong to original exercise in Hacker Rank. \n",
    "\n",
    "#if __name__ == '__main__':\n",
    "    #fptr = open(os.environ['OUTPUT_PATH'], 'w')\n",
    "\n",
    "arr_count = int(input())\n",
    "\n",
    "arr = list(map(int, input().rstrip().split()))\n",
    "    \n",
    "print (\"Input Array\")\n",
    "print(arr)\n",
    "\n",
    "res = reverseArray(arr)\n",
    "\n",
    "print (\"Output Array\")\n",
    "print(res)\n",
    "    \n",
    "    #fptr.write(' '.join(map(str, res)))\n",
    "    #fptr.write(' '.join(map(str, arr)))\n",
    "    #fptr.write('\\n')\n",
    "\n",
    "    #fptr.close()"
   ]
  }
 ],
 "metadata": {
  "kernelspec": {
   "display_name": "Python 3",
   "language": "python",
   "name": "python3"
  },
  "language_info": {
   "codemirror_mode": {
    "name": "ipython",
    "version": 3
   },
   "file_extension": ".py",
   "mimetype": "text/x-python",
   "name": "python",
   "nbconvert_exporter": "python",
   "pygments_lexer": "ipython3",
   "version": "3.8.2"
  }
 },
 "nbformat": 4,
 "nbformat_minor": 4
}
