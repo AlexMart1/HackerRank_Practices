{
 "cells": [
  {
   "cell_type": "markdown",
   "metadata": {},
   "source": [
    "# Left Rotation"
   ]
  },
  {
   "cell_type": "markdown",
   "metadata": {},
   "source": [
    "https://www.hackerrank.com/challenges/array-left-rotation/"
   ]
  },
  {
   "cell_type": "code",
   "execution_count": 2,
   "metadata": {},
   "outputs": [],
   "source": [
    "import math\n",
    "import os\n",
    "import random\n",
    "import re\n",
    "import sys"
   ]
  },
  {
   "cell_type": "code",
   "execution_count": 9,
   "metadata": {},
   "outputs": [],
   "source": [
    "def LeftRotate(d,arr):\n",
    "    #Initialize shift window\n",
    "    window = []\n",
    "    rotated_arr = []\n",
    "    n = len(arr)\n",
    "    \n",
    "    #Left Rotation\n",
    "    if d == n:\n",
    "        return arr\n",
    "    \n",
    "    #Case at d < n\n",
    "    else:\n",
    "        window = arr[0:d]\n",
    "        rotated_arr = arr[d:]\n",
    "        for i in range (d):\n",
    "            rotated_arr.append(window[i])\n",
    "        return rotated_arr"
   ]
  },
  {
   "cell_type": "code",
   "execution_count": 20,
   "metadata": {},
   "outputs": [
    {
     "name": "stdin",
     "output_type": "stream",
     "text": [
      " 5 2 \n",
      " 1 2 3 4 5\n"
     ]
    },
    {
     "name": "stdout",
     "output_type": "stream",
     "text": [
      "\n",
      "Original\n",
      "\n",
      "1 2 3 4 5\n",
      "\n",
      "Left rotated\n",
      "\n",
      "3 4 5 1 2\n"
     ]
    }
   ],
   "source": [
    "#if __name__ == '__main__':\n",
    "\n",
    "nd = input().split()\n",
    "\n",
    "n = int(nd[0])\n",
    "\n",
    "d = int(nd[1])\n",
    "\n",
    "a = list(map(int, input().rstrip().split()))\n",
    "\n",
    "print(\"\\nOriginal\\n\")\n",
    "print(*a)\n",
    "\n",
    "r = LeftRotate(d,a)\n",
    "\n",
    "print(\"\\nLeft rotated\\n\")\n",
    "\n",
    "#Fun note, \"*\" here in python 3 works as an unpacking operator that turns a list into positional arguments\n",
    "#https://stackoverflow.com/questions/2921847/what-does-the-star-operator-mean-in-a-function-call/2921893#2921893\n",
    "print(*r)"
   ]
  },
  {
   "cell_type": "markdown",
   "metadata": {},
   "source": [
    "**Sample input**"
   ]
  },
  {
   "cell_type": "markdown",
   "metadata": {},
   "source": [
    "`5 2\n",
    "1 2 3 4 5`"
   ]
  }
 ],
 "metadata": {
  "kernelspec": {
   "display_name": "Python 3",
   "language": "python",
   "name": "python3"
  },
  "language_info": {
   "codemirror_mode": {
    "name": "ipython",
    "version": 3
   },
   "file_extension": ".py",
   "mimetype": "text/x-python",
   "name": "python",
   "nbconvert_exporter": "python",
   "pygments_lexer": "ipython3",
   "version": "3.8.2"
  }
 },
 "nbformat": 4,
 "nbformat_minor": 4
}
