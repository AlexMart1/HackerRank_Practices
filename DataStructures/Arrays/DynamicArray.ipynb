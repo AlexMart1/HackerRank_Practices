{
 "cells": [
  {
   "cell_type": "markdown",
   "metadata": {},
   "source": [
    "# Dynamic Array"
   ]
  },
  {
   "cell_type": "markdown",
   "metadata": {},
   "source": [
    "https://www.hackerrank.com/challenges/dynamic-array/problem"
   ]
  },
  {
   "cell_type": "code",
   "execution_count": 1,
   "metadata": {},
   "outputs": [],
   "source": [
    "import math\n",
    "import os\n",
    "import random\n",
    "import re\n",
    "import sys"
   ]
  },
  {
   "cell_type": "code",
   "execution_count": 101,
   "metadata": {},
   "outputs": [],
   "source": [
    "# Complete the 'dynamicArray' function below.\n",
    "#\n",
    "# The function is expected to return an INTEGER_ARRAY.\n",
    "# The function accepts following parameters:\n",
    "#  1. INTEGER n\n",
    "#  2. 2D_INTEGER_ARRAY queries\n",
    "#\n",
    "\n",
    "def dynamicArray(n, queries):\n",
    "    #Inicializacion\n",
    "    lenq= len(queries)\n",
    "    lastAnswer = 0\n",
    "    seqlist = []\n",
    "    lA_array = []\n",
    "    \n",
    "    #Create a seqlist of n empty sequences\n",
    "    for i in range(n):\n",
    "        seqlist.append([])\n",
    "    \n",
    "    for i in range (lenq):\n",
    "        \n",
    "        index = (queries[i][1] ^ lastAnswer) % n\n",
    "        sequence = seqlist[index]\n",
    "        size = len(sequence)\n",
    "        y = queries[i][2]\n",
    "        \n",
    "        if queries[i][0]==1:\n",
    "            #Execute query 1\n",
    "            sequence.append(y)\n",
    "        \n",
    "        elif size > 0:\n",
    "            #Execute query 2\n",
    "            subindex = (y % size)\n",
    "            lastAnswer = sequence[subindex]\n",
    "            lA_array.append(lastAnswer)\n",
    "    \n",
    "    return lA_array"
   ]
  },
  {
   "cell_type": "code",
   "execution_count": 102,
   "metadata": {},
   "outputs": [
    {
     "name": "stdin",
     "output_type": "stream",
     "text": [
      " 2 5\n",
      " 1 0 5\n",
      " 1 1 7\n",
      " 1 0 3\n",
      " 2 1 0\n",
      " 2 1 1\n"
     ]
    },
    {
     "name": "stdout",
     "output_type": "stream",
     "text": [
      "Output\n",
      "[7, 3]\n"
     ]
    }
   ],
   "source": [
    "#if __name__ == '__main__':\n",
    "    #fptr = open(os.environ['OUTPUT_PATH'], 'w')\n",
    "\n",
    "first_multiple_input = input().rstrip().split()\n",
    "\n",
    "n = int(first_multiple_input[0])\n",
    "\n",
    "q = int(first_multiple_input[1])\n",
    "\n",
    "queries = []\n",
    "\n",
    "for _ in range(q):\n",
    "    queries.append(list(map(int, input().rstrip().split())))\n",
    "\n",
    "print (\"Output\")\n",
    "print (dynamicArray(n,queries))\n",
    "\n",
    "    #result = dynamicArray(n, queries)\n",
    "\n",
    "    #fptr.write('\\n'.join(map(str, result)))\n",
    "    #fptr.write('\\n')\n",
    "\n",
    "    #fptr.close()"
   ]
  },
  {
   "cell_type": "markdown",
   "metadata": {},
   "source": [
    "**Sample input**"
   ]
  },
  {
   "cell_type": "markdown",
   "metadata": {},
   "source": [
    "`2 5\n",
    "1 0 5\n",
    "1 1 7\n",
    "1 0 3\n",
    "2 1 0\n",
    "2 1 1`"
   ]
  }
 ],
 "metadata": {
  "kernelspec": {
   "display_name": "Python 3",
   "language": "python",
   "name": "python3"
  },
  "language_info": {
   "codemirror_mode": {
    "name": "ipython",
    "version": 3
   },
   "file_extension": ".py",
   "mimetype": "text/x-python",
   "name": "python",
   "nbconvert_exporter": "python",
   "pygments_lexer": "ipython3",
   "version": "3.8.2"
  }
 },
 "nbformat": 4,
 "nbformat_minor": 4
}
