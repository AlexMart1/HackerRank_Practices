{
 "cells": [
  {
   "cell_type": "markdown",
   "metadata": {},
   "source": [
    "# Array Manipulation"
   ]
  },
  {
   "cell_type": "markdown",
   "metadata": {},
   "source": [
    "https://www.hackerrank.com/challenges/crush/problem"
   ]
  },
  {
   "cell_type": "markdown",
   "metadata": {},
   "source": [
    "_This practice exercise is solved but the time complexity of the solution still can be improved, be advised_"
   ]
  },
  {
   "cell_type": "code",
   "execution_count": 2,
   "metadata": {},
   "outputs": [],
   "source": [
    "import math\n",
    "import os\n",
    "import random\n",
    "import re\n",
    "import sys"
   ]
  },
  {
   "cell_type": "code",
   "execution_count": 43,
   "metadata": {},
   "outputs": [],
   "source": [
    "# 1st solution\n",
    "def arrayManipulation(n, queries):\n",
    "    zeros_array = [0] * n\n",
    "    \n",
    "    for i in range(len(queries)):\n",
    "        a = queries[i][0] - 1\n",
    "        b = queries[i][1] \n",
    "        k = queries[i][2]\n",
    "        for x in range (a,b):\n",
    "            zeros_array[x]+= k\n",
    "    \n",
    "    return max(zeros_array)"
   ]
  },
  {
   "cell_type": "code",
   "execution_count": 44,
   "metadata": {},
   "outputs": [
    {
     "name": "stdin",
     "output_type": "stream",
     "text": [
      " 5 3\n",
      " 1 2 100\n",
      " 2 5 100\n",
      " 3 4 100\n"
     ]
    },
    {
     "name": "stdout",
     "output_type": "stream",
     "text": [
      "\n",
      "Max value in finished array: 200\n"
     ]
    }
   ],
   "source": [
    "#if __name__ == '__main__':\n",
    "    #fptr = open(os.environ['OUTPUT_PATH'], 'w')\n",
    "\n",
    "nm = input().split()\n",
    "\n",
    "n = int(nm[0])\n",
    "\n",
    "m = int(nm[1])\n",
    "\n",
    "queries = []\n",
    "\n",
    "for _ in range(m):\n",
    "    queries.append(list(map(int, input().rstrip().split())))\n",
    "   \n",
    "result = arrayManipulation(n, queries)\n",
    "\n",
    "print(\"\\nMax value in finished array: \" + str(result))\n",
    "\n",
    "#fptr.write(str(result) + '\\n')\n",
    "\n",
    "#fptr.close()"
   ]
  },
  {
   "cell_type": "markdown",
   "metadata": {},
   "source": [
    "**Sample input**"
   ]
  },
  {
   "cell_type": "markdown",
   "metadata": {},
   "source": [
    "`5 3\n",
    "1 2 100\n",
    "2 5 100\n",
    "3 4 100`"
   ]
  }
 ],
 "metadata": {
  "kernelspec": {
   "display_name": "Python 3",
   "language": "python",
   "name": "python3"
  },
  "language_info": {
   "codemirror_mode": {
    "name": "ipython",
    "version": 3
   },
   "file_extension": ".py",
   "mimetype": "text/x-python",
   "name": "python",
   "nbconvert_exporter": "python",
   "pygments_lexer": "ipython3",
   "version": "3.8.2"
  }
 },
 "nbformat": 4,
 "nbformat_minor": 4
}
