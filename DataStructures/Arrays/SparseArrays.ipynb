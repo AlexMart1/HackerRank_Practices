{
 "cells": [
  {
   "cell_type": "markdown",
   "metadata": {},
   "source": [
    "# Sparse Arrays"
   ]
  },
  {
   "cell_type": "markdown",
   "metadata": {},
   "source": [
    "https://www.hackerrank.com/challenges/sparse-arrays/problem"
   ]
  },
  {
   "cell_type": "code",
   "execution_count": 1,
   "metadata": {},
   "outputs": [],
   "source": [
    "import math\n",
    "import os\n",
    "import random\n",
    "import re\n",
    "import sys"
   ]
  },
  {
   "cell_type": "code",
   "execution_count": 24,
   "metadata": {},
   "outputs": [],
   "source": [
    "# Complete the matchingStrings function below.\n",
    "def matchingStrings(strings, queries):\n",
    "    result =[]\n",
    "    counter = 0\n",
    "    \n",
    "    for q in range(len(queries)):\n",
    "        for s in range(len(strings)):\n",
    "            if queries[q] == strings[s]:\n",
    "                counter+=1\n",
    "        result.append(counter)\n",
    "        counter = 0\n",
    "        \n",
    "    return(result)    "
   ]
  },
  {
   "cell_type": "code",
   "execution_count": 25,
   "metadata": {},
   "outputs": [
    {
     "name": "stdin",
     "output_type": "stream",
     "text": [
      " 4\n",
      " aba\n",
      " baba\n",
      " aba\n",
      " xzxb\n",
      " 3\n",
      " aba\n",
      " xzxb\n",
      " ab\n"
     ]
    },
    {
     "name": "stdout",
     "output_type": "stream",
     "text": [
      "strings\n",
      "['aba', 'baba', 'aba', 'xzxb']\n",
      "queries\n",
      "['aba', 'xzxb', 'ab']\n",
      "[2, 1, 0]\n"
     ]
    }
   ],
   "source": [
    "#if __name__ == '__main__':\n",
    "    #fptr = open(os.environ['OUTPUT_PATH'], 'w')\n",
    "\n",
    "strings_count = int(input())\n",
    "\n",
    "strings = []\n",
    "\n",
    "for _ in range(strings_count):\n",
    "    strings_item = input()\n",
    "    strings.append(strings_item)\n",
    "\n",
    "queries_count = int(input())\n",
    "\n",
    "queries = []\n",
    "\n",
    "for _ in range(queries_count):\n",
    "    queries_item = input()\n",
    "    queries.append(queries_item)\n",
    "    \n",
    "print(\"strings\")\n",
    "print(strings)\n",
    "    \n",
    "print(\"queries\")\n",
    "print(queries)\n",
    "    \n",
    "res = matchingStrings(strings, queries)\n",
    "print(res)\n",
    "    #fptr.write('\\n'.join(map(str, res)))\n",
    "    #fptr.write('\\n')\n",
    "    #fptr.close()"
   ]
  },
  {
   "cell_type": "markdown",
   "metadata": {},
   "source": [
    "**Sample input**"
   ]
  },
  {
   "cell_type": "markdown",
   "metadata": {},
   "source": [
    "`4\n",
    "aba\n",
    "baba\n",
    "aba\n",
    "xzxb\n",
    "3\n",
    "aba\n",
    "xzxb\n",
    "ab`"
   ]
  }
 ],
 "metadata": {
  "kernelspec": {
   "display_name": "Python 3",
   "language": "python",
   "name": "python3"
  },
  "language_info": {
   "codemirror_mode": {
    "name": "ipython",
    "version": 3
   },
   "file_extension": ".py",
   "mimetype": "text/x-python",
   "name": "python",
   "nbconvert_exporter": "python",
   "pygments_lexer": "ipython3",
   "version": "3.8.2"
  }
 },
 "nbformat": 4,
 "nbformat_minor": 4
}
